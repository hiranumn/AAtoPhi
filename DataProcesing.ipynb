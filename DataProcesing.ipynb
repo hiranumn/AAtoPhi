{
 "cells": [
  {
   "cell_type": "code",
   "execution_count": 16,
   "metadata": {
    "collapsed": true
   },
   "outputs": [],
   "source": [
    "import pandas\n",
    "import numpy as np\n",
    "import seaborn as sns\n",
    "import matplotlib.pyplot as plt"
   ]
  },
  {
   "cell_type": "markdown",
   "metadata": {},
   "source": [
    "# Read in raw data"
   ]
  },
  {
   "cell_type": "code",
   "execution_count": 17,
   "metadata": {
    "collapsed": true
   },
   "outputs": [],
   "source": [
    "rawdata = open(\"/media/bigger/hiranumn/torsion_data/vall.jul19.2011\").readlines()"
   ]
  },
  {
   "cell_type": "code",
   "execution_count": 18,
   "metadata": {},
   "outputs": [
    {
     "name": "stdout",
     "output_type": "stream",
     "text": [
      "header size: 61\n"
     ]
    }
   ],
   "source": [
    "count = 0\n",
    "curprot = \"\"\n",
    "proteins = []\n",
    "AAs = []\n",
    "Phis = []\n",
    "Psis = []\n",
    "for i in rawdata:\n",
    "    if len(i)>2 and i[:2]==\"#p\":\n",
    "        header = i.strip().split(\" \")\n",
    "        print \"header size:\", len(header)\n",
    "    elif i[0] != \"#\":\n",
    "        line = i.strip().split()\n",
    "        assert len(line) == len(header)\n",
    "        if line[0] != curprot:\n",
    "            if count != 0:\n",
    "                proteins.append([curprot, AAs, Phis, Psis])\n",
    "            count += 1\n",
    "            curprot = line[0]\n",
    "            AAs = [line[1]]\n",
    "            Phis = [float(line[14])]\n",
    "            Psis = [float(line[15])]\n",
    "        else:\n",
    "            AAs.append(line[1])\n",
    "            Phis.append(float(line[14]))\n",
    "            Psis.append(float(line[15]))\n",
    "proteins.append([curprot, AAs, Phis, Psis])"
   ]
  },
  {
   "cell_type": "code",
   "execution_count": 19,
   "metadata": {},
   "outputs": [
    {
     "name": "stdout",
     "output_type": "stream",
     "text": [
      "16800\n"
     ]
    }
   ],
   "source": [
    "print len(proteins)"
   ]
  },
  {
   "cell_type": "markdown",
   "metadata": {},
   "source": [
    "# process"
   ]
  },
  {
   "cell_type": "code",
   "execution_count": 20,
   "metadata": {},
   "outputs": [],
   "source": [
    "class protein:\n",
    "    \n",
    "    def __init__(self, inputs):\n",
    "        name, AAs, Phis, Psis = inputs\n",
    "        self.name = name\n",
    "        self.AAs = AAs\n",
    "        self.Phis = Phis\n",
    "        self.Psis = Psis\n",
    "        self.maps = maps = {'A': 0, 'C': 1, 'E': 2, 'D': 3, 'G': 4, 'F': 5, 'I': 6, 'H': 7, 'K': 8, 'M': 9, 'L': 10, 'N': 11, 'Q': 12, 'P': 13, 'S': 14, 'R': 15, 'T': 16, 'W': 17, 'V': 18, 'Y': 19}\n",
    "    \n",
    "    def generate_data(self, window=15):\n",
    "        # make AAs one hot encoded\n",
    "        temp_oheAAs = np.zeros((20, len(self.AAs)))\n",
    "        \n",
    "        # digitize (bin) output angles\n",
    "        out_phis = np.zeros((32, len(self.Phis)))\n",
    "        out_psis = np.zeros((32, len(self.Psis)))\n",
    "        digitized_phis = np.digitize(np.array(self.Phis), np.arange(-180, 181, 11.26))\n",
    "        digitized_psis = np.digitize(np.array(self.Psis), np.arange(-180, 181, 11.26))\n",
    "        \n",
    "        # Fill them in.\n",
    "        for i in range(len(self.AAs)):\n",
    "            temp_oheAAs[self.maps[self.AAs[i]],i] = 1\n",
    "            out_phis[digitized_phis[i]-1, i] = 1\n",
    "            out_psis[digitized_psis[i]-1, i] = 1\n",
    "        \n",
    "        windowed_AAs = []\n",
    "        windowed_phis = []\n",
    "        windowed_psis = []\n",
    "        \n",
    "        # Window them\n",
    "        for i in range(0, len(self.AAs)-window):\n",
    "            windowed_AAs.append(temp_oheAAs[:, i:i+window])\n",
    "            windowed_phis.append(out_phis[:, i:i+window])\n",
    "            windowed_psis.append(out_psis[:, i:i+window])\n",
    "        \n",
    "        return np.array(windowed_AAs), np.array(windowed_phis), np.array(windowed_psis)\n",
    "        "
   ]
  },
  {
   "cell_type": "code",
   "execution_count": 21,
   "metadata": {},
   "outputs": [],
   "source": [
    "AAs = []\n",
    "Phis = []\n",
    "Psis = []\n",
    "\n",
    "count = 0\n",
    "for prot in proteins[10000:]:\n",
    "    p = protein(prot)\n",
    "    out = p.generate_data()\n",
    "    if len(p.AAs) > 15:\n",
    "        AAs.append(out[0])\n",
    "        Phis.append(out[1])\n",
    "        Psis.append(out[2])\n",
    "    count += 1\n",
    "    \n",
    "AAs = np.concatenate(AAs)\n",
    "Phis = np.concatenate(Phis)\n",
    "Psis = np.concatenate(Psis)"
   ]
  },
  {
   "cell_type": "code",
   "execution_count": 22,
   "metadata": {},
   "outputs": [
    {
     "data": {
      "text/plain": [
       "((1568999, 20, 15), (1568999, 32, 15), (1568999, 32, 15))"
      ]
     },
     "execution_count": 22,
     "metadata": {},
     "output_type": "execute_result"
    }
   ],
   "source": [
    "AAs.shape, Phis.shape, Psis.shape"
   ]
  },
  {
   "cell_type": "code",
   "execution_count": 23,
   "metadata": {},
   "outputs": [],
   "source": [
    "AAs = np.transpose(AAs, [0,2,1])\n",
    "Phis = np.transpose(Phis, [0,2,1])\n",
    "Psis = np.transpose(Psis, [0,2,1])"
   ]
  },
  {
   "cell_type": "code",
   "execution_count": 24,
   "metadata": {
    "collapsed": true
   },
   "outputs": [],
   "source": [
    "np.save(\"/media/bigger/hiranumn/torsion_data/AAs_test.npy\", AAs)\n",
    "np.save(\"/media/bigger/hiranumn/torsion_data/Phis_test.npy\", Phis)\n",
    "np.save(\"/media/bigger/hiranumn/torsion_data/Psis_test.npy\", Psis)"
   ]
  },
  {
   "cell_type": "code",
   "execution_count": null,
   "metadata": {
    "collapsed": true
   },
   "outputs": [],
   "source": []
  },
  {
   "cell_type": "markdown",
   "metadata": {},
   "source": [
    "# Plot for fun"
   ]
  },
  {
   "cell_type": "code",
   "execution_count": 26,
   "metadata": {},
   "outputs": [
    {
     "data": {
      "text/plain": [
       "<matplotlib.figure.Figure at 0x7f0fa689fed0>"
      ]
     },
     "metadata": {},
     "output_type": "display_data"
    },
    {
     "data": {
      "image/png": "[encoded data removed]",
      "text/plain": [
       "<matplotlib.figure.Figure at 0x7f1018ce6210>"
      ]
     },
     "metadata": {},
     "output_type": "display_data"
    }
   ],
   "source": [
    "plt.figure()\n",
    "sns.heatmap(out[0][0], cbar=False)\n",
    "plt.ylabel('one-hot-encoded AA')\n",
    "plt.xlabel('residues')\n",
    "plt.show()"
   ]
  },
  {
   "cell_type": "code",
   "execution_count": 27,
   "metadata": {},
   "outputs": [
    {
     "data": {
      "image/png": "[encoded data removed]",
      "text/plain": [
       "<matplotlib.figure.Figure at 0x7f1010e92b90>"
      ]
     },
     "metadata": {},
     "output_type": "display_data"
    }
   ],
   "source": [
    "plt.figure()\n",
    "sns.heatmap(out[1][0], cbar=False)\n",
    "plt.ylabel('Binned Phi (-180 to 180)')\n",
    "plt.xlabel('residues')\n",
    "plt.show()"
   ]
  },
  {
   "cell_type": "code",
   "execution_count": 28,
   "metadata": {},
   "outputs": [
    {
     "data": {
      "image/png": "[encoded data removed]",
      "text/plain": [
       "<matplotlib.figure.Figure at 0x7f1010dcef50>"
      ]
     },
     "metadata": {},
     "output_type": "display_data"
    }
   ],
   "source": [
    "plt.figure()\n",
    "sns.heatmap(out[2][0], cbar=False)\n",
    "plt.ylabel('Binned Psi (-180 to 180)')\n",
    "plt.xlabel('residues')\n",
    "plt.show()"
   ]
  },
  {
   "cell_type": "code",
   "execution_count": 30,
   "metadata": {},
   "outputs": [
    {
     "data": {
      "text/plain": [
       "['M', 'S', 'S', 'R', 'S', 'E', 'L', 'L', 'L', 'E', 'K', 'F', 'A', 'E', 'K']"
      ]
     },
     "execution_count": 30,
     "metadata": {},
     "output_type": "execute_result"
    }
   ],
   "source": [
    "p.AAs[:15]"
   ]
  },
  {
   "cell_type": "code",
   "execution_count": 33,
   "metadata": {},
   "outputs": [
    {
     "name": "stdout",
     "output_type": "stream",
     "text": [
      "[0.0, -144.978, -68.067, -61.263, -68.657, -64.923, -65.001, -61.559, -61.287, -63.647, -63.009, -57.111, -59.457, -53.822, -79.844]\n"
     ]
    }
   ],
   "source": [
    "print p.Phis[:15]"
   ]
  },
  {
   "cell_type": "code",
   "execution_count": null,
   "metadata": {
    "collapsed": true
   },
   "outputs": [],
   "source": []
  }
 ],
 "metadata": {
  "kernelspec": {
   "display_name": "Python 2",
   "language": "python",
   "name": "python2"
  },
  "language_info": {
   "codemirror_mode": {
    "name": "ipython",
    "version": 2
   },
   "file_extension": ".py",
   "mimetype": "text/x-python",
   "name": "python",
   "nbconvert_exporter": "python",
   "pygments_lexer": "ipython2",
   "version": "2.7.14"
  }
 },
 "nbformat": 4,
 "nbformat_minor": 2
}
