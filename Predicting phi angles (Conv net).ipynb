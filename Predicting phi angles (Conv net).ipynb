{
 "cells": [
  {
   "cell_type": "code",
   "execution_count": null,
   "metadata": {
    "collapsed": true
   },
   "outputs": [],
   "source": [
    "import numpy as np\n",
    "import scipy as sp\n",
    "import keras\n",
    "import matplotlib.pyplot as plt\n",
    "import seaborn as sns"
   ]
  },
  {
   "cell_type": "markdown",
   "metadata": {},
   "source": [
    "Loading data"
   ]
  },
  {
   "cell_type": "code",
   "execution_count": 2,
   "metadata": {
    "collapsed": true
   },
   "outputs": [],
   "source": [
    "AAs = np.load(\"/media/bigger/hiranumn/torsion_data/AAs.npy\")\n",
    "Phis = np.load(\"/media/bigger/hiranumn/torsion_data/Phis.npy\")\n",
    "Psis = np.load(\"/media/bigger/hiranumn/torsion_data/Psis.npy\")"
   ]
  },
  {
   "cell_type": "code",
   "execution_count": 3,
   "metadata": {},
   "outputs": [
    {
     "name": "stdout",
     "output_type": "stream",
     "text": [
      "(2305381, 15, 20) (2305381, 15, 32) (2305381, 15, 32)\n"
     ]
    }
   ],
   "source": [
    "print AAs.shape, Phis.shape, Psis.shape"
   ]
  },
  {
   "cell_type": "markdown",
   "metadata": {},
   "source": [
    "Building a keras model (CNN)"
   ]
  },
  {
   "cell_type": "code",
   "execution_count": 24,
   "metadata": {},
   "outputs": [],
   "source": [
    "model = keras.models.Sequential()\n",
    "\n",
    "# Convolution Layer 1\n",
    "model.add(keras.layers.Conv1D(64, kernel_size=(3,), strides=(1,),\n",
    "                         activation= None,\n",
    "                         padding=\"same\",\n",
    "                         data_format = \"channels_last\",\n",
    "                         input_shape=(15, 20)))\n",
    "model.add(keras.layers.BatchNormalization())\n",
    "model.add(keras.layers.Activation(\"relu\"))\n",
    "model.add(keras.layers.Dropout(0.3))\n",
    "\n",
    "# Convolution Layer 2\n",
    "model.add(keras.layers.Conv1D(128, kernel_size=(3,), strides=(1,),\n",
    "                         activation= None,\n",
    "                         padding=\"same\",\n",
    "                         data_format = \"channels_last\"))\n",
    "model.add(keras.layers.BatchNormalization())\n",
    "model.add(keras.layers.Activation(\"relu\"))\n",
    "model.add(keras.layers.Dropout(0.3))\n",
    "\n",
    "# Convolution Layer 3\n",
    "model.add(keras.layers.Conv1D(256, kernel_size=(3,), strides=(1,),\n",
    "                         activation= None,\n",
    "                         padding=\"same\",\n",
    "                         data_format = \"channels_last\"))\n",
    "model.add(keras.layers.BatchNormalization())\n",
    "model.add(keras.layers.Activation(\"relu\"))\n",
    "model.add(keras.layers.Dropout(0.3))\n",
    "\n",
    "# Add time distributed Dense\n",
    "model.add(keras.layers.TimeDistributed(keras.layers.Dense(32, activation= None)))\n",
    "model.add(keras.layers.TimeDistributed(keras.layers.Activation(\"softmax\")))\n",
    "\n",
    "# Adding Loss function\n",
    "model.compile(loss='categorical_crossentropy', optimizer='adam', metrics=['accuracy'])"
   ]
  },
  {
   "cell_type": "markdown",
   "metadata": {},
   "source": [
    "Training the network"
   ]
  },
  {
   "cell_type": "code",
   "execution_count": 25,
   "metadata": {},
   "outputs": [
    {
     "name": "stdout",
     "output_type": "stream",
     "text": [
      "Train on 2074842 samples, validate on 230539 samples\n",
      "Epoch 1/1\n",
      "2074842/2074842 [==============================] - 878s 423us/step - loss: 2.0840 - acc: 0.3190 - val_loss: 2.0575 - val_acc: 0.3222\n"
     ]
    }
   ],
   "source": [
    "history = model.fit(AAs, Phis, validation_split=0.1, epochs=1)"
   ]
  },
  {
   "cell_type": "markdown",
   "metadata": {},
   "source": [
    "Predicting"
   ]
  },
  {
   "cell_type": "code",
   "execution_count": 27,
   "metadata": {},
   "outputs": [],
   "source": [
    "testAAs = np.load(\"/media/bigger/hiranumn/torsion_data/AAs_test.npy\")\n",
    "testPhis = np.load(\"/media/bigger/hiranumn/torsion_data/Phis_test.npy\")\n",
    "testPsis = np.load(\"/media/bigger/hiranumn/torsion_data/Psis_test.npy\")"
   ]
  },
  {
   "cell_type": "code",
   "execution_count": 30,
   "metadata": {},
   "outputs": [],
   "source": [
    "predictions  = model.predict(testAAs)"
   ]
  },
  {
   "cell_type": "markdown",
   "metadata": {},
   "source": [
    "Visualizing predictions"
   ]
  },
  {
   "cell_type": "code",
   "execution_count": 48,
   "metadata": {},
   "outputs": [
    {
     "data": {
      "image/png": "[encoded data removed]",
      "text/plain": [
       "<matplotlib.figure.Figure at 0x7f920e099910>"
      ]
     },
     "metadata": {},
     "output_type": "display_data"
    }
   ],
   "source": [
    "index = np.random.randint(100000)\n",
    "predicted_phis = predictions[index]\n",
    "true_phis = testPhis[index]\n",
    "\n",
    "plt.figure(figsize=(16,6))\n",
    "plt.subplot(121)\n",
    "plt.title(\"Prediction\")\n",
    "sns.heatmap(np.transpose(predicted_phis))\n",
    "plt.ylabel('Binned Phi (-180 to 180)')\n",
    "plt.xlabel('residues')\n",
    "\n",
    "plt.subplot(122)\n",
    "sns.heatmap(np.transpose(true_phis))\n",
    "plt.title(\"Truth\")\n",
    "plt.ylabel('Binned Phi (-180 to 180)')\n",
    "plt.xlabel('residues')\n",
    "plt.show()"
   ]
  },
  {
   "cell_type": "markdown",
   "metadata": {},
   "source": [
    "Assessing the quality"
   ]
  },
  {
   "cell_type": "code",
   "execution_count": 61,
   "metadata": {},
   "outputs": [],
   "source": [
    "loss1 = -1*np.mean(np.sum(np.multiply(np.log(predictions), testPhis), axis=-1))"
   ]
  },
  {
   "cell_type": "code",
   "execution_count": 65,
   "metadata": {},
   "outputs": [
    {
     "name": "stdout",
     "output_type": "stream",
     "text": [
      "2.062390438434466\n"
     ]
    }
   ],
   "source": [
    "print loss1"
   ]
  },
  {
   "cell_type": "code",
   "execution_count": 64,
   "metadata": {},
   "outputs": [],
   "source": [
    "loss2 = -1*np.mean(np.sum(np.multiply(np.log(np.ones(predictions.shape)/32), testPhis), axis=-1))"
   ]
  },
  {
   "cell_type": "code",
   "execution_count": 66,
   "metadata": {},
   "outputs": [
    {
     "name": "stdout",
     "output_type": "stream",
     "text": [
      "3.4657359027998433\n"
     ]
    }
   ],
   "source": [
    "print loss2"
   ]
  },
  {
   "cell_type": "code",
   "execution_count": 90,
   "metadata": {},
   "outputs": [],
   "source": [
    "position_mean = np.mean(np.mean(Phis, axis=1), axis=0)\n",
    "temp = np.vstack([position_mean]*15)\n",
    "temp = np.stack([temp]*1568999)"
   ]
  },
  {
   "cell_type": "code",
   "execution_count": 93,
   "metadata": {},
   "outputs": [],
   "source": [
    "loss3 = -1*np.mean(np.sum(np.multiply(np.log(temp), testPhis), axis=-1))"
   ]
  },
  {
   "cell_type": "code",
   "execution_count": 94,
   "metadata": {},
   "outputs": [
    {
     "name": "stdout",
     "output_type": "stream",
     "text": [
      "2.3551784485689446\n"
     ]
    }
   ],
   "source": [
    "print loss3"
   ]
  }
 ],
 "metadata": {
  "kernelspec": {
   "display_name": "Python 2",
   "language": "python",
   "name": "python2"
  },
  "language_info": {
   "codemirror_mode": {
    "name": "ipython",
    "version": 2
   },
   "file_extension": ".py",
   "mimetype": "text/x-python",
   "name": "python",
   "nbconvert_exporter": "python",
   "pygments_lexer": "ipython2",
   "version": "2.7.14"
  }
 },
 "nbformat": 4,
 "nbformat_minor": 2
}
