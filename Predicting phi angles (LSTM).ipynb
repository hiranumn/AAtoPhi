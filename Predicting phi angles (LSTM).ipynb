{
 "cells": [
  {
   "cell_type": "code",
   "execution_count": 1,
   "metadata": {},
   "outputs": [
    {
     "name": "stderr",
     "output_type": "stream",
     "text": [
      "Using TensorFlow backend.\n"
     ]
    }
   ],
   "source": [
    "import numpy as np\n",
    "import scipy as sp\n",
    "import keras\n",
    "import matplotlib.pyplot as plt\n",
    "import seaborn as sns"
   ]
  },
  {
   "cell_type": "markdown",
   "metadata": {},
   "source": [
    "Loading data"
   ]
  },
  {
   "cell_type": "code",
   "execution_count": 3,
   "metadata": {
    "collapsed": true
   },
   "outputs": [],
   "source": [
    "AAs = np.load(\"/media/bigger/hiranumn/torsion_data/AAs.npy\")\n",
    "Phis = np.load(\"/media/bigger/hiranumn/torsion_data/Phis.npy\")\n",
    "Psis = np.load(\"/media/bigger/hiranumn/torsion_data/Psis.npy\")"
   ]
  },
  {
   "cell_type": "code",
   "execution_count": 4,
   "metadata": {},
   "outputs": [
    {
     "name": "stdout",
     "output_type": "stream",
     "text": [
      "(2305381, 15, 20) (2305381, 15, 32) (2305381, 15, 32)\n"
     ]
    }
   ],
   "source": [
    "print AAs.shape, Phis.shape, Psis.shape"
   ]
  },
  {
   "cell_type": "markdown",
   "metadata": {},
   "source": [
    "Building a keras model (LSTM)"
   ]
  },
  {
   "cell_type": "code",
   "execution_count": 2,
   "metadata": {
    "collapsed": true
   },
   "outputs": [],
   "source": [
    "model = keras.models.Sequential()\n",
    "\n",
    "# Bidirectinal LSTM layer\n",
    "model.add(keras.layers.Bidirectional(keras.layers.LSTM(64, return_sequences=True), \n",
    "                                     input_shape=(15, 20), merge_mode=\"concat\"))\n",
    "model.add(keras.layers.Dropout(0.3))\n",
    "\n",
    "# Bidirectinal LSTM layer\n",
    "model.add(keras.layers.Bidirectional(keras.layers.LSTM(64, return_sequences=True), \n",
    "                                     input_shape=(15, 20), merge_mode=\"concat\"))\n",
    "model.add(keras.layers.Dropout(0.3))\n",
    "\n",
    "# Bidirectinal LSTM layer\n",
    "model.add(keras.layers.Bidirectional(keras.layers.LSTM(64, return_sequences=True), \n",
    "                                     input_shape=(15, 20), merge_mode=\"concat\"))\n",
    "model.add(keras.layers.Dropout(0.3))\n",
    "\n",
    "# Add time distributed Dense\n",
    "model.add(keras.layers.TimeDistributed(keras.layers.Dense(32, activation= None)))\n",
    "model.add(keras.layers.TimeDistributed(keras.layers.Activation(\"softmax\")))\n",
    "\n",
    "# Adding Loss function\n",
    "model.compile(loss='categorical_crossentropy', optimizer='adam', metrics=['accuracy'])"
   ]
  },
  {
   "cell_type": "markdown",
   "metadata": {},
   "source": [
    "Training the network"
   ]
  },
  {
   "cell_type": "code",
   "execution_count": 5,
   "metadata": {},
   "outputs": [
    {
     "name": "stdout",
     "output_type": "stream",
     "text": [
      "Train on 2074842 samples, validate on 230539 samples\n",
      "Epoch 1/1\n",
      "2074842/2074842 [==============================] - 9409s 5ms/step - loss: 2.0246 - acc: 0.3308 - val_loss: 1.9990 - val_acc: 0.3352\n"
     ]
    }
   ],
   "source": [
    "history = model.fit(AAs, Phis, validation_split=0.1, epochs=1)"
   ]
  },
  {
   "cell_type": "markdown",
   "metadata": {},
   "source": [
    "Predicting"
   ]
  },
  {
   "cell_type": "code",
   "execution_count": 6,
   "metadata": {
    "collapsed": true
   },
   "outputs": [],
   "source": [
    "testAAs = np.load(\"/media/bigger/hiranumn/torsion_data/AAs_test.npy\")\n",
    "testPhis = np.load(\"/media/bigger/hiranumn/torsion_data/Phis_test.npy\")\n",
    "testPsis = np.load(\"/media/bigger/hiranumn/torsion_data/Psis_test.npy\")"
   ]
  },
  {
   "cell_type": "code",
   "execution_count": 7,
   "metadata": {
    "collapsed": true
   },
   "outputs": [],
   "source": [
    "predictions  = model.predict(testAAs)"
   ]
  },
  {
   "cell_type": "markdown",
   "metadata": {},
   "source": [
    "Visualizing predictions"
   ]
  },
  {
   "cell_type": "code",
   "execution_count": 31,
   "metadata": {},
   "outputs": [
    {
     "data": {
      "image/png": "[encoded data removed]",
      "text/plain": [
       "<matplotlib.figure.Figure at 0x7fcda4697e90>"
      ]
     },
     "metadata": {},
     "output_type": "display_data"
    }
   ],
   "source": [
    "index = np.random.randint(100000)\n",
    "predicted_phis = predictions[index]\n",
    "true_phis = testPhis[index]\n",
    "\n",
    "plt.figure(figsize=(16,6))\n",
    "plt.subplot(121)\n",
    "plt.title(\"Prediction\")\n",
    "sns.heatmap(np.transpose(predicted_phis))\n",
    "plt.ylabel('Binned Phi (-180 to 180)')\n",
    "plt.xlabel('residues')\n",
    "\n",
    "plt.subplot(122)\n",
    "sns.heatmap(np.transpose(true_phis))\n",
    "plt.title(\"Truth\")\n",
    "plt.ylabel('Binned Phi (-180 to 180)')\n",
    "plt.xlabel('residues')\n",
    "plt.show()"
   ]
  },
  {
   "cell_type": "markdown",
   "metadata": {},
   "source": [
    "Assessing the quality"
   ]
  },
  {
   "cell_type": "code",
   "execution_count": 13,
   "metadata": {
    "collapsed": true
   },
   "outputs": [],
   "source": [
    "loss1 = -1*np.mean(np.sum(np.multiply(np.log(predictions), testPhis), axis=-1))"
   ]
  },
  {
   "cell_type": "code",
   "execution_count": 14,
   "metadata": {},
   "outputs": [
    {
     "name": "stdout",
     "output_type": "stream",
     "text": [
      "2.0040900158990973\n"
     ]
    }
   ],
   "source": [
    "print loss1"
   ]
  },
  {
   "cell_type": "code",
   "execution_count": 15,
   "metadata": {
    "collapsed": true
   },
   "outputs": [],
   "source": [
    "loss2 = -1*np.mean(np.sum(np.multiply(np.log(np.ones(predictions.shape)/32), testPhis), axis=-1))"
   ]
  },
  {
   "cell_type": "code",
   "execution_count": 16,
   "metadata": {},
   "outputs": [
    {
     "name": "stdout",
     "output_type": "stream",
     "text": [
      "3.4657359027998433\n"
     ]
    }
   ],
   "source": [
    "print loss2"
   ]
  },
  {
   "cell_type": "code",
   "execution_count": 17,
   "metadata": {
    "collapsed": true
   },
   "outputs": [],
   "source": [
    "position_mean = np.mean(np.mean(Phis, axis=1), axis=0)\n",
    "temp = np.vstack([position_mean]*15)\n",
    "temp = np.stack([temp]*1568999)"
   ]
  },
  {
   "cell_type": "code",
   "execution_count": 18,
   "metadata": {
    "collapsed": true
   },
   "outputs": [],
   "source": [
    "loss3 = -1*np.mean(np.sum(np.multiply(np.log(temp), testPhis), axis=-1))"
   ]
  },
  {
   "cell_type": "code",
   "execution_count": 19,
   "metadata": {},
   "outputs": [
    {
     "name": "stdout",
     "output_type": "stream",
     "text": [
      "2.3551784485689446\n"
     ]
    }
   ],
   "source": [
    "print loss3"
   ]
  },
  {
   "cell_type": "code",
   "execution_count": null,
   "metadata": {
    "collapsed": true
   },
   "outputs": [],
   "source": []
  }
 ],
 "metadata": {
  "kernelspec": {
   "display_name": "Python 2",
   "language": "python",
   "name": "python2"
  },
  "language_info": {
   "codemirror_mode": {
    "name": "ipython",
    "version": 2
   },
   "file_extension": ".py",
   "mimetype": "text/x-python",
   "name": "python",
   "nbconvert_exporter": "python",
   "pygments_lexer": "ipython2",
   "version": "2.7.14"
  }
 },
 "nbformat": 4,
 "nbformat_minor": 2
}
